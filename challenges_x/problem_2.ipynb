{
 "cells": [
  {
   "cell_type": "markdown",
   "metadata": {
    "ExecuteTime": {
     "end_time": "2018-12-08T17:27:05.063898Z",
     "start_time": "2018-12-08T17:27:04.429839Z"
    }
   },
   "source": [
    "# Problem 2"
   ]
  },
  {
   "cell_type": "markdown",
   "metadata": {
    "ExecuteTime": {
     "end_time": "2018-12-08T17:27:05.063898Z",
     "start_time": "2018-12-08T17:27:04.429839Z"
    }
   },
   "source": [
    "We have provided files that provide yearly game appearance statistics for every\n",
    "player to have played in Major League Baseball between the years 1871 and 2014.\n",
    "\n",
    "The files can be found on:\n",
    "\n",
    "https://s3.amazonaws.com/dd-interview-data/data_scientist/baseball/appearances/YYYY/YYYY-0,000\n",
    "\n",
    "\n",
    "The header for these files is as follows:\n",
    "\n",
    "\n",
    "Year,Team,League,Player ID code,Player Name,Total games played,Games started,Games in which player batted,Games in which player appeared on defense,Games as pitcher,Games as catcher,Games as firstbaseman,Games as secondbaseman,Games as thirdbaseman,Games as shortstop,Games as leftfielder,Games as centerfielder,Games as right fielder,Games as outfielder,Games as designated hitter,Games as pinch hitter,Games as pinch runner\n",
    "\n",
    "\n",
    "\n",
    "Write a program that downloads these files and produces a list of triples of\n",
    " teams for which at least 50 players have played for all three teams.\n",
    "\n",
    "For instance, Alex Rodriguez has played for the Mariners, Rangers, and Yankees,\n",
    "and thus he would count once for the Mariners/Rangers/Yankees triple.\n",
    "\n",

   ]
  },
  {
   "cell_type": "markdown",
   "metadata": {},
   "source": [
    "### Software prerequesites"
   ]
  },
  {
   "cell_type": "markdown",
   "metadata": {},
   "source": [
    "This notebook requires the following dependencies:\n",
    "\n",
    "* `numpy`\n",
    "* `pandas`\n",
    "* `jupyter`\n",
    "* `tqdm`\n",
    "\n",
    "Please install them using `conda` or using `pip` before running the following code"
   ]
  },
  {
   "cell_type": "code",
   "execution_count": 12,
   "metadata": {
    "ExecuteTime": {
     "end_time": "2018-12-09T21:43:11.625324Z",
     "start_time": "2018-12-09T21:43:11.605326Z"
    }
   },
   "outputs": [],
   "source": [
    "#%matplotlib inline\n",
    "import numpy as np\n",
    "import pandas as pd\n",
    "import matplotlib.pyplot as plt"
   ]
  },
  {
   "cell_type": "markdown",
   "metadata": {},
   "source": [
    "### Load data"
   ]
  },
  {
   "cell_type": "code",
   "execution_count": 13,
   "metadata": {
    "ExecuteTime": {
     "end_time": "2018-12-09T21:43:11.690310Z",
     "start_time": "2018-12-09T21:43:11.629324Z"
    }
   },
   "outputs": [],
   "source": [
    "import requests\n",
    "from tqdm import tqdm_notebook as tqdm\n",
    "\n",
    "#Define the headers\n",
    "HEADERS = (\"Year,team,League,player_id,Player Name,Total games played,\"\n",
    "\"Games started,Games in which player batted,\" \n",
    "\"Games in which player appeared on defense,Games as pitcher,\"\n",
    "\"Games as catcher,Games as firstbaseman,Games as secondbaseman,\"\n",
    "\"Games as thirdbaseman,Games as shortstop,Games as leftfielder,\"\n",
    "\"Games as centerfielder,Games as right fielder,Games as outfielder,\"\n",
    "\"Games as designated hitter,Games as pinch hitter,Games as pinch runner\")\n",
    "HEADERS = HEADERS.split(\",\")\n",
    "    \n",
    "def read_data(year):\n",
    "    '''read data from the given year, set them in a list'''\n",
    "    #import data for the year given in parameters from the corresponding url\n",
    "    year = str(year)\n",
    "    url = 'https://s3.amazonaws.com/dd-interview-data/data_scientist/baseball/appearances/%s/%s-0,000' % (year,year)\n",
    "    r = requests.get(url, allow_redirects=True).content\n",
    "    \n",
    "    #we get \"bytes\" data : it is necessary to decode them\n",
    "    r = r.decode('utf-8')    \n",
    "    r = r.split(\"\\n\")\n",
    "    split_coma = lambda s:s.split(\",\")\n",
    "    r = list(map(split_coma,r))\n",
    "    \n",
    "    # each file ends with a \\n, then we have to remove the last entry that is empty\n",
    "    return r[:-1] if r[-1]==[\"\"] else r\n",
    "\n",
    "def get_dataframe(year_start,year_end):\n",
    "    entries = []\n",
    "    for year in tqdm(range(year_start, year_end + 1)):\n",
    "        entries += read_data(year)\n",
    "    return pd.DataFrame(entries, columns=HEADERS)"
   ]
  },
  {
   "cell_type": "code",
   "execution_count": 14,
   "metadata": {
    "ExecuteTime": {
     "end_time": "2018-12-09T21:44:41.793548Z",
     "start_time": "2018-12-09T21:43:11.694310Z"
    }
   },
   "outputs": [
    {
     "data": {
      "application/vnd.jupyter.widget-view+json": {
       "model_id": "8a1760af76c84dbda17f64ddad4452de",
       "version_major": 2,
       "version_minor": 0
      },
      "text/html": [
       "<p>Failed to display Jupyter Widget of type <code>HBox</code>.</p>\n",
       "<p>\n",
       "  If you're reading this message in the Jupyter Notebook or JupyterLab Notebook, it may mean\n",
       "  that the widgets JavaScript is still loading. If this message persists, it\n",
       "  likely means that the widgets JavaScript library is either not installed or\n",
       "  not enabled. See the <a href=\"https://ipywidgets.readthedocs.io/en/stable/user_install.html\">Jupyter\n",
       "  Widgets Documentation</a> for setup instructions.\n",
       "</p>\n",
       "<p>\n",
       "  If you're reading this message in another frontend (for example, a static\n",
       "  rendering on GitHub or <a href=\"https://nbviewer.jupyter.org/\">NBViewer</a>),\n",
       "  it may mean that your frontend doesn't currently support widgets.\n",
       "</p>\n"
      ],
      "text/plain": [
       "HBox(children=(IntProgress(value=0, max=144), HTML(value='')))"
      ]
     },
     "metadata": {},
     "output_type": "display_data"
    },
    {
     "name": "stdout",
     "output_type": "stream",
     "text": [
      "\n"
     ]
    }
   ],
   "source": [
    "data = get_dataframe(1871,2014)"
   ]
  },
  {
   "cell_type": "code",
   "execution_count": 15,
   "metadata": {
    "ExecuteTime": {
     "end_time": "2018-12-09T21:44:41.837523Z",
     "start_time": "2018-12-09T21:44:41.796529Z"
    }
   },
   "outputs": [
    {
     "data": {
      "text/html": [
       "<div>\n",
       "<style scoped>\n",
       "    .dataframe tbody tr th:only-of-type {\n",
       "        vertical-align: middle;\n",
       "    }\n",
       "\n",
       "    .dataframe tbody tr th {\n",
       "        vertical-align: top;\n",
       "    }\n",
       "\n",
       "    .dataframe thead th {\n",
       "        text-align: right;\n",
       "    }\n",
       "</style>\n",
       "<table border=\"1\" class=\"dataframe\">\n",
       "  <thead>\n",
       "    <tr style=\"text-align: right;\">\n",
       "      <th></th>\n",
       "      <th>Year</th>\n",
       "      <th>team</th>\n",
       "      <th>League</th>\n",
       "      <th>player_id</th>\n",
       "      <th>Player Name</th>\n",
       "      <th>Total games played</th>\n",
       "      <th>Games started</th>\n",
       "      <th>Games in which player batted</th>\n",
       "      <th>Games in which player appeared on defense</th>\n",
       "      <th>Games as pitcher</th>\n",
       "      <th>...</th>\n",
       "      <th>Games as secondbaseman</th>\n",
       "      <th>Games as thirdbaseman</th>\n",
       "      <th>Games as shortstop</th>\n",
       "      <th>Games as leftfielder</th>\n",
       "      <th>Games as centerfielder</th>\n",
       "      <th>Games as right fielder</th>\n",
       "      <th>Games as outfielder</th>\n",
       "      <th>Games as designated hitter</th>\n",
       "      <th>Games as pinch hitter</th>\n",
       "      <th>Games as pinch runner</th>\n",
       "    </tr>\n",
       "  </thead>\n",
       "  <tbody>\n",
       "    <tr>\n",
       "      <th>0</th>\n",
       "      <td>1871</td>\n",
       "      <td>RC1</td>\n",
       "      <td>NA</td>\n",
       "      <td>hamra01</td>\n",
       "      <td>Ralph Ham</td>\n",
       "      <td>25</td>\n",
       "      <td></td>\n",
       "      <td>25</td>\n",
       "      <td>25</td>\n",
       "      <td>0</td>\n",
       "      <td>...</td>\n",
       "      <td>0</td>\n",
       "      <td>7</td>\n",
       "      <td>2</td>\n",
       "      <td>19</td>\n",
       "      <td>0</td>\n",
       "      <td>0</td>\n",
       "      <td>19</td>\n",
       "      <td></td>\n",
       "      <td></td>\n",
       "      <td></td>\n",
       "    </tr>\n",
       "    <tr>\n",
       "      <th>1</th>\n",
       "      <td>1871</td>\n",
       "      <td>RC1</td>\n",
       "      <td>NA</td>\n",
       "      <td>addybo01</td>\n",
       "      <td>Bob Addy</td>\n",
       "      <td>25</td>\n",
       "      <td></td>\n",
       "      <td>25</td>\n",
       "      <td>25</td>\n",
       "      <td>0</td>\n",
       "      <td>...</td>\n",
       "      <td>22</td>\n",
       "      <td>0</td>\n",
       "      <td>3</td>\n",
       "      <td>0</td>\n",
       "      <td>0</td>\n",
       "      <td>0</td>\n",
       "      <td>0</td>\n",
       "      <td></td>\n",
       "      <td></td>\n",
       "      <td></td>\n",
       "    </tr>\n",
       "    <tr>\n",
       "      <th>2</th>\n",
       "      <td>1871</td>\n",
       "      <td>CL1</td>\n",
       "      <td>NA</td>\n",
       "      <td>bassjo01</td>\n",
       "      <td>John Bass</td>\n",
       "      <td>22</td>\n",
       "      <td></td>\n",
       "      <td>22</td>\n",
       "      <td>22</td>\n",
       "      <td>0</td>\n",
       "      <td>...</td>\n",
       "      <td>0</td>\n",
       "      <td>0</td>\n",
       "      <td>22</td>\n",
       "      <td>0</td>\n",
       "      <td>0</td>\n",
       "      <td>0</td>\n",
       "      <td>0</td>\n",
       "      <td></td>\n",
       "      <td></td>\n",
       "      <td></td>\n",
       "    </tr>\n",
       "    <tr>\n",
       "      <th>3</th>\n",
       "      <td>1871</td>\n",
       "      <td>RC1</td>\n",
       "      <td>NA</td>\n",
       "      <td>birdge01</td>\n",
       "      <td>George Bird</td>\n",
       "      <td>25</td>\n",
       "      <td></td>\n",
       "      <td>25</td>\n",
       "      <td>25</td>\n",
       "      <td>0</td>\n",
       "      <td>...</td>\n",
       "      <td>0</td>\n",
       "      <td>0</td>\n",
       "      <td>0</td>\n",
       "      <td>1</td>\n",
       "      <td>25</td>\n",
       "      <td>0</td>\n",
       "      <td>25</td>\n",
       "      <td></td>\n",
       "      <td></td>\n",
       "      <td></td>\n",
       "    </tr>\n",
       "    <tr>\n",
       "      <th>4</th>\n",
       "      <td>1871</td>\n",
       "      <td>BS1</td>\n",
       "      <td>NA</td>\n",
       "      <td>conefr01</td>\n",
       "      <td>Fred Cone</td>\n",
       "      <td>19</td>\n",
       "      <td></td>\n",
       "      <td>19</td>\n",
       "      <td>19</td>\n",
       "      <td>0</td>\n",
       "      <td>...</td>\n",
       "      <td>0</td>\n",
       "      <td>0</td>\n",
       "      <td>0</td>\n",
       "      <td>18</td>\n",
       "      <td>0</td>\n",
       "      <td>1</td>\n",
       "      <td>18</td>\n",
       "      <td></td>\n",
       "      <td></td>\n",
       "      <td></td>\n",
       "    </tr>\n",
       "  </tbody>\n",
       "</table>\n",
       "<p>5 rows × 22 columns</p>\n",
       "</div>"
      ],
      "text/plain": [
       "   Year team League player_id  Player Name Total games played Games started  \\\n",
       "0  1871  RC1     NA   hamra01    Ralph Ham                 25                 \n",
       "1  1871  RC1     NA  addybo01     Bob Addy                 25                 \n",
       "2  1871  CL1     NA  bassjo01    John Bass                 22                 \n",
       "3  1871  RC1     NA  birdge01  George Bird                 25                 \n",
       "4  1871  BS1     NA  conefr01    Fred Cone                 19                 \n",
       "\n",
       "  Games in which player batted Games in which player appeared on defense  \\\n",
       "0                           25                                        25   \n",
       "1                           25                                        25   \n",
       "2                           22                                        22   \n",
       "3                           25                                        25   \n",
       "4                           19                                        19   \n",
       "\n",
       "  Games as pitcher          ...          Games as secondbaseman  \\\n",
       "0                0          ...                               0   \n",
       "1                0          ...                              22   \n",
       "2                0          ...                               0   \n",
       "3                0          ...                               0   \n",
       "4                0          ...                               0   \n",
       "\n",
       "  Games as thirdbaseman Games as shortstop Games as leftfielder  \\\n",
       "0                     7                  2                   19   \n",
       "1                     0                  3                    0   \n",
       "2                     0                 22                    0   \n",
       "3                     0                  0                    1   \n",
       "4                     0                  0                   18   \n",
       "\n",
       "  Games as centerfielder Games as right fielder Games as outfielder  \\\n",
       "0                      0                      0                  19   \n",
       "1                      0                      0                   0   \n",
       "2                      0                      0                   0   \n",
       "3                     25                      0                  25   \n",
       "4                      0                      1                  18   \n",
       "\n",
       "  Games as designated hitter Games as pinch hitter Games as pinch runner  \n",
       "0                                                                         \n",
       "1                                                                         \n",
       "2                                                                         \n",
       "3                                                                         \n",
       "4                                                                         \n",
       "\n",
       "[5 rows x 22 columns]"
      ]
     },
     "execution_count": 15,
     "metadata": {},
     "output_type": "execute_result"
    }
   ],
   "source": [
    "data.head()"
   ]
  },
  {
   "cell_type": "code",
   "execution_count": 16,
   "metadata": {
    "ExecuteTime": {
     "end_time": "2018-12-09T21:44:41.868538Z",
     "start_time": "2018-12-09T21:44:41.842525Z"
    }
   },
   "outputs": [
    {
     "data": {
      "text/plain": [
       "151"
      ]
     },
     "execution_count": 16,
     "metadata": {},
     "output_type": "execute_result"
    }
   ],
   "source": [
    "teams = data[\"team\"].unique()\n",
    "n_teams = len(teams)\n",
    "n_teams"
   ]
  },
  {
   "cell_type": "markdown",
   "metadata": {},
   "source": [
    "We find that $n_{teams} = 151$. Thus, there is $\\binom{151}{3} = 562475$ possibilities. Of course, trying every player on every combination works, but let imagine we have 100 iterations/sec, as we have about 18000 players, it will take about $\\frac{562475 \\times 18000}{100} \\approx 10^9 seconds$ ! \n",
    "\n",
    "Obviously, we have to find another way to find the solution."
   ]
  },
  {
   "cell_type": "markdown",
   "metadata": {},
   "source": [
    "### Find the players of each team"
   ]
  },
  {
   "cell_type": "code",
   "execution_count": 17,
   "metadata": {
    "ExecuteTime": {
     "end_time": "2018-12-09T21:44:44.063180Z",
     "start_time": "2018-12-09T21:44:41.872517Z"
    }
   },
   "outputs": [
    {
     "data": {
      "application/vnd.jupyter.widget-view+json": {
       "model_id": "4566d746224d4eadb8789f0dfc5db65f",
       "version_major": 2,
       "version_minor": 0
      },
      "text/html": [
       "<p>Failed to display Jupyter Widget of type <code>HBox</code>.</p>\n",
       "<p>\n",
       "  If you're reading this message in the Jupyter Notebook or JupyterLab Notebook, it may mean\n",
       "  that the widgets JavaScript is still loading. If this message persists, it\n",
       "  likely means that the widgets JavaScript library is either not installed or\n",
       "  not enabled. See the <a href=\"https://ipywidgets.readthedocs.io/en/stable/user_install.html\">Jupyter\n",
       "  Widgets Documentation</a> for setup instructions.\n",
       "</p>\n",
       "<p>\n",
       "  If you're reading this message in another frontend (for example, a static\n",
       "  rendering on GitHub or <a href=\"https://nbviewer.jupyter.org/\">NBViewer</a>),\n",
       "  it may mean that your frontend doesn't currently support widgets.\n",
       "</p>\n"
      ],
      "text/plain": [
       "HBox(children=(IntProgress(value=0, max=151), HTML(value='')))"
      ]
     },
     "metadata": {},
     "output_type": "display_data"
    },
    {
     "name": "stdout",
     "output_type": "stream",
     "text": [
      "\n"
     ]
    }
   ],
   "source": [
    "players_in_team = []\n",
    "considered_teams = []\n",
    "for team in tqdm(data[\"team\"].unique()):\n",
    "    players = data[data[\"team\"]==team][\"player_id\"].unique()\n",
    "    \n",
    "    # we can filter, because considering a team with less than 50 players is pointless\n",
    "    filter_players = True\n",
    "    # if you want to experience the speed boost granted by the filter, I invite you to change the value \n",
    "    # of filter_players to False (no filter)\n",
    "    if len(players)>= (50 if filter_players else 0):\n",
    "        considered_teams.append(team)\n",
    "        players_in_team.append(players)"
   ]
  },
  {
   "cell_type": "code",
   "execution_count": 18,
   "metadata": {
    "ExecuteTime": {
     "end_time": "2018-12-09T21:44:44.077178Z",
     "start_time": "2018-12-09T21:44:44.067177Z"
    }
   },
   "outputs": [
    {
     "data": {
      "text/plain": [
       "68"
      ]
     },
     "execution_count": 18,
     "metadata": {},
     "output_type": "execute_result"
    }
   ],
   "source": [
    "len(considered_teams)"
   ]
  },
  {
   "cell_type": "markdown",
   "metadata": {},
   "source": [
    "### Intersection between the different teams"
   ]
  },
  {
   "cell_type": "code",
   "execution_count": 19,
   "metadata": {
    "ExecuteTime": {
     "end_time": "2018-12-09T21:44:44.094173Z",
     "start_time": "2018-12-09T21:44:44.082177Z"
    }
   },
   "outputs": [],
   "source": [
    "def intersection(l1, l2):  \n",
    "    '''intersection between two lists'''\n",
    "    tempset = set(l2) \n",
    "    l3 = [value for value in l1 if value in tempset] \n",
    "    return l3 \n",
    "\n",
    "def intersection_3(container,i,j,k):\n",
    "    '''Intersection between the i-th, j-th, and k-th list of container'''\n",
    "    return intersection(container[i],intersection(container[j],container[k]))"
   ]
  },
  {
   "cell_type": "markdown",
   "metadata": {},
   "source": [
    "We consider <b>68 teams</b> so we have to process the triple intersection $\\binom{68}{3} \\approx 50000 \\ times$ <br>\n",
    "The triple intersection is really fast. The intersection is, in average, in $O(min(len(l_1),len(l_2)))$. Thus, we assume that the triple intersection has a linear complexity in the length of the lists given in argument. <br><br> \n",
    "(In fact, we can have in the worst case: $ O(len(l_1) * len(l_2))$ according to https://wiki.python.org/moin/TimeComplexity#set. However, that \"worst case\" assumes data that is inappropriate for use in the hash table used by dict and set : so, in our case, we don't have to worry much about this.)\n",
    "<br>\n",
    "<br>\n",
    "As a conclusion, processing the intersection between so much combinations is possible in a reasonable time."
   ]
  },
  {
   "cell_type": "code",
   "execution_count": 23,
   "metadata": {
    "ExecuteTime": {
     "end_time": "2018-12-09T22:00:30.532893Z",
     "start_time": "2018-12-09T22:00:22.385808Z"
    }
   },
   "outputs": [
    {
     "data": {
      "application/vnd.jupyter.widget-view+json": {
       "model_id": "1cdf0dd582e348a689bf8eb56ccbdab0",
       "version_major": 2,
       "version_minor": 0
      },
      "text/html": [
       "<p>Failed to display Jupyter Widget of type <code>HBox</code>.</p>\n",
       "<p>\n",
       "  If you're reading this message in the Jupyter Notebook or JupyterLab Notebook, it may mean\n",
       "  that the widgets JavaScript is still loading. If this message persists, it\n",
       "  likely means that the widgets JavaScript library is either not installed or\n",
       "  not enabled. See the <a href=\"https://ipywidgets.readthedocs.io/en/stable/user_install.html\">Jupyter\n",
       "  Widgets Documentation</a> for setup instructions.\n",
       "</p>\n",
       "<p>\n",
       "  If you're reading this message in another frontend (for example, a static\n",
       "  rendering on GitHub or <a href=\"https://nbviewer.jupyter.org/\">NBViewer</a>),\n",
       "  it may mean that your frontend doesn't currently support widgets.\n",
       "</p>\n"
      ],
      "text/plain": [
       "HBox(children=(IntProgress(value=0, max=66), HTML(value='')))"
      ]
     },
     "metadata": {},
     "output_type": "display_data"
    },
    {
     "name": "stdout",
     "output_type": "stream",
     "text": [
      "\n"
     ]
    }
   ],
   "source": [
    "solution = []\n",
    "\n",
    "c = 0\n",
    "\n",
    "n_possible_teams = len(considered_teams)\n",
    "for i_team in tqdm(range(n_possible_teams-2)):\n",
    "    for j_team in range(i_team+1,n_possible_teams-1):\n",
    "        for k_team in range(j_team+1,n_possible_teams):\n",
    "            c+=1\n",
    "            if len(intersection_3(players_in_team,i_team,j_team,k_team))>50:\n",
    "                solution.append((i_team,j_team,k_team))"
   ]
  },
  {
   "cell_type": "code",
   "execution_count": 21,
   "metadata": {
    "ExecuteTime": {
     "end_time": "2018-12-09T21:44:52.155328Z",
     "start_time": "2018-12-09T21:44:52.147328Z"
    }
   },
   "outputs": [],
   "source": [
    "solution = [(considered_teams[i],considered_teams[j],considered_teams[k]) for i,j,k in solution]"
   ]
  },
  {
   "cell_type": "markdown",
   "metadata": {},
   "source": [
    "## Conclusion"
   ]
  },
  {
   "cell_type": "markdown",
   "metadata": {},
   "source": [
    "### Solution"
   ]
  },
  {
   "cell_type": "code",
   "execution_count": 22,
   "metadata": {
    "ExecuteTime": {
     "end_time": "2018-12-09T21:44:52.199321Z",
     "start_time": "2018-12-09T21:44:52.158327Z"
    }
   },
   "outputs": [
    {
     "name": "stdout",
     "output_type": "stream",
     "text": [
      "Finally, 8 triples of teams have at least 50 players who have played for all three teams.\n",
      "The solution is the following :\n",
      "('CHN', 'PHI', 'CIN')\n",
      "('CHN', 'PHI', 'SLN')\n",
      "('CHN', 'PIT', 'CIN')\n",
      "('CHN', 'CIN', 'SLN')\n",
      "('PHI', 'PIT', 'CIN')\n",
      "('PHI', 'CIN', 'SLN')\n",
      "('PIT', 'CIN', 'SLN')\n",
      "('CHA', 'CLE', 'BOS')\n"
     ]
    }
   ],
   "source": [
    "print(\"Finally,\",len(solution),\"triples of teams have at least 50 players who have played for all three teams.\")\n",
    "print(\"The solution is the following :\")\n",
    "for triples in solution:\n",
    "    print(triples)"
   ]
  },
  {
   "cell_type": "markdown",
   "metadata": {},
   "source": [
    "### Complexity study"
   ]
  },
  {
   "cell_type": "markdown",
   "metadata": {},
   "source": [
    "<ul>\n",
    "<li>Downloading the data will not count in the final complexity. Its complexity in time and space is linear in N, where N = dataset_size (assuming we do not encounter any network issues).</li><br>\n",
    "<li>The intersection between 3 lists of players has a time complexity of $O($size_of_players_lists$)$ and have a constant space complexity.\n",
    "    </li><br>\n",
    "<li>The part that may take some time is the one in which we have to intersect every existing triples. <br>\n",
    "    By removing every team with less than 50 players, we had a great boost in speed. We had 151 teams, and after the filter we have only 68 remaining. Then, instead of considering $\\binom{151}{3}=562475$ possible combinations, we consider only $\\binom{68}{3}=50116$ of them. It is about 10 times less, so it is a great boost. In practice we only have about 5 times less computing time, because all the removed list are very small (&#60;50 players), then the intersect is even faster. <br>\n",
    "    The space complexity is $O(n_{solution})$ and is very low in our case.\n",
    "    </li>\n",
    "<br><br>\n",
    "    As a conclusion, we have a time complexity in the worst case (that is \"every list contains every player\") in $$C_{time} = O(n_{players} * \\binom{n_{team}}{3}) = O(n_{players} * \\frac{n_{team}!}{(n_{team}-3)!})$$\n",
    "   $$C_{time} = O(n_{players} * (n_{team})^3)$$\n",
    "   \n",
    "   and a space complexity in the worst case (\"every list contains every player\") : \n",
    "   $$C_{space} = O(n_{players} * n_{team} + N_{dataset})$$\n",
    "   \n",
    "   Please note that the space complexity can be reduced if we extract the players and the teams for each year at a time, and if we remove the entire dataset from the memory when we have extracted all the informations. In our case, there is no need to do such a thing ; however it is a good way to save some memory if the dataset proves to be too big."
   ]
  }
 ],
 "metadata": {
  "kernelspec": {
   "display_name": "Python 3",
   "language": "python",
   "name": "python3"
  },
  "language_info": {
   "codemirror_mode": {
    "name": "ipython",
    "version": 3
   },
   "file_extension": ".py",
   "mimetype": "text/x-python",
   "name": "python",
   "nbconvert_exporter": "python",
   "pygments_lexer": "ipython3",
   "version": "3.6.4"
  }
 },
 "nbformat": 4,
 "nbformat_minor": 2
}
