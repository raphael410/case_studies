{
 "cells": [
  {
   "cell_type": "code",
   "execution_count": 1,
   "metadata": {
    "ExecuteTime": {
     "end_time": "2018-12-12T13:21:59.363720Z",
     "start_time": "2018-12-12T13:21:58.502685Z"
    }
   },
   "outputs": [],
   "source": [
    "%matplotlib inline\n",
    "\n",
    "import pandas as pd"
   ]
  },
  {
   "cell_type": "code",
   "execution_count": 2,
   "metadata": {
    "ExecuteTime": {
     "end_time": "2018-12-12T13:22:00.103239Z",
     "start_time": "2018-12-12T13:21:59.363720Z"
    }
   },
   "outputs": [],
   "source": [
    "import problem"
   ]
  },
  {
   "cell_type": "code",
   "execution_count": 3,
   "metadata": {
    "ExecuteTime": {
     "end_time": "2018-12-12T13:22:01.399829Z",
     "start_time": "2018-12-12T13:22:01.009696Z"
    }
   },
   "outputs": [],
   "source": [
    "data_train, y_train = problem.get_train_data()"
   ]
  },
  {
   "cell_type": "code",
   "execution_count": 4,
   "metadata": {
    "ExecuteTime": {
     "end_time": "2018-12-12T13:22:01.857886Z",
     "start_time": "2018-12-12T13:22:01.795453Z"
    }
   },
   "outputs": [
    {
     "data": {
      "text/html": [
       "<div>\n",
       "<style scoped>\n",
       "    .dataframe tbody tr th:only-of-type {\n",
       "        vertical-align: middle;\n",
       "    }\n",
       "\n",
       "    .dataframe tbody tr th {\n",
       "        vertical-align: top;\n",
       "    }\n",
       "\n",
       "    .dataframe thead th {\n",
       "        text-align: right;\n",
       "    }\n",
       "</style>\n",
       "<table border=\"1\" class=\"dataframe\">\n",
       "  <thead>\n",
       "    <tr style=\"text-align: right;\">\n",
       "      <th></th>\n",
       "      <th>B</th>\n",
       "      <th>Bx</th>\n",
       "      <th>Bx_rms</th>\n",
       "      <th>By</th>\n",
       "      <th>By_rms</th>\n",
       "      <th>Bz</th>\n",
       "      <th>Bz_rms</th>\n",
       "      <th>Na_nl</th>\n",
       "      <th>Np</th>\n",
       "      <th>Np_nl</th>\n",
       "      <th>...</th>\n",
       "      <th>Range F 8</th>\n",
       "      <th>Range F 9</th>\n",
       "      <th>V</th>\n",
       "      <th>Vth</th>\n",
       "      <th>Vx</th>\n",
       "      <th>Vy</th>\n",
       "      <th>Vz</th>\n",
       "      <th>Beta</th>\n",
       "      <th>Pdyn</th>\n",
       "      <th>RmsBob</th>\n",
       "    </tr>\n",
       "  </thead>\n",
       "  <tbody>\n",
       "    <tr>\n",
       "      <th>1997-10-01 00:00:00</th>\n",
       "      <td>6.584763</td>\n",
       "      <td>3.753262</td>\n",
       "      <td>2.303108</td>\n",
       "      <td>0.966140</td>\n",
       "      <td>2.602693</td>\n",
       "      <td>-5.179685</td>\n",
       "      <td>2.668414</td>\n",
       "      <td>2.290824</td>\n",
       "      <td>23.045732</td>\n",
       "      <td>24.352797</td>\n",
       "      <td>...</td>\n",
       "      <td>2.757919e+09</td>\n",
       "      <td>2.472087e+09</td>\n",
       "      <td>378.313934</td>\n",
       "      <td>80.613098</td>\n",
       "      <td>-351.598389</td>\n",
       "      <td>-138.521454</td>\n",
       "      <td>6.956387</td>\n",
       "      <td>7.641340</td>\n",
       "      <td>5.487331e-15</td>\n",
       "      <td>0.668473</td>\n",
       "    </tr>\n",
       "    <tr>\n",
       "      <th>1997-10-01 00:10:00</th>\n",
       "      <td>6.036456</td>\n",
       "      <td>0.693559</td>\n",
       "      <td>1.810752</td>\n",
       "      <td>-0.904843</td>\n",
       "      <td>2.165570</td>\n",
       "      <td>-1.944006</td>\n",
       "      <td>2.372931</td>\n",
       "      <td>2.119593</td>\n",
       "      <td>23.000492</td>\n",
       "      <td>20.993362</td>\n",
       "      <td>...</td>\n",
       "      <td>3.365612e+09</td>\n",
       "      <td>3.087122e+09</td>\n",
       "      <td>350.421021</td>\n",
       "      <td>69.919327</td>\n",
       "      <td>-331.012146</td>\n",
       "      <td>-110.970787</td>\n",
       "      <td>-21.269474</td>\n",
       "      <td>9.149856</td>\n",
       "      <td>4.783776e-15</td>\n",
       "      <td>0.753848</td>\n",
       "    </tr>\n",
       "    <tr>\n",
       "      <th>1997-10-01 00:20:00</th>\n",
       "      <td>5.653682</td>\n",
       "      <td>-4.684786</td>\n",
       "      <td>0.893058</td>\n",
       "      <td>-2.668830</td>\n",
       "      <td>0.768677</td>\n",
       "      <td>1.479302</td>\n",
       "      <td>1.069266</td>\n",
       "      <td>2.876815</td>\n",
       "      <td>20.676191</td>\n",
       "      <td>17.496399</td>\n",
       "      <td>...</td>\n",
       "      <td>1.675611e+09</td>\n",
       "      <td>1.558640e+09</td>\n",
       "      <td>328.324493</td>\n",
       "      <td>92.194435</td>\n",
       "      <td>-306.114899</td>\n",
       "      <td>-117.035202</td>\n",
       "      <td>-13.018987</td>\n",
       "      <td>11.924199</td>\n",
       "      <td>3.719768e-15</td>\n",
       "      <td>0.282667</td>\n",
       "    </tr>\n",
       "    <tr>\n",
       "      <th>1997-10-01 00:30:00</th>\n",
       "      <td>5.461768</td>\n",
       "      <td>-4.672382</td>\n",
       "      <td>1.081638</td>\n",
       "      <td>-2.425630</td>\n",
       "      <td>0.765681</td>\n",
       "      <td>1.203713</td>\n",
       "      <td>0.934445</td>\n",
       "      <td>2.851195</td>\n",
       "      <td>20.730188</td>\n",
       "      <td>16.747108</td>\n",
       "      <td>...</td>\n",
       "      <td>1.589037e+09</td>\n",
       "      <td>1.439569e+09</td>\n",
       "      <td>319.436859</td>\n",
       "      <td>94.230705</td>\n",
       "      <td>-298.460938</td>\n",
       "      <td>-110.403969</td>\n",
       "      <td>-20.350492</td>\n",
       "      <td>16.032987</td>\n",
       "      <td>3.525211e-15</td>\n",
       "      <td>0.304713</td>\n",
       "    </tr>\n",
       "    <tr>\n",
       "      <th>1997-10-01 00:40:00</th>\n",
       "      <td>6.177846</td>\n",
       "      <td>-5.230110</td>\n",
       "      <td>1.046126</td>\n",
       "      <td>-2.872561</td>\n",
       "      <td>0.635256</td>\n",
       "      <td>1.505010</td>\n",
       "      <td>0.850657</td>\n",
       "      <td>3.317076</td>\n",
       "      <td>20.675701</td>\n",
       "      <td>17.524536</td>\n",
       "      <td>...</td>\n",
       "      <td>1.812308e+09</td>\n",
       "      <td>1.529260e+09</td>\n",
       "      <td>327.545929</td>\n",
       "      <td>89.292595</td>\n",
       "      <td>-307.303070</td>\n",
       "      <td>-111.865845</td>\n",
       "      <td>-12.313167</td>\n",
       "      <td>10.253789</td>\n",
       "      <td>3.694283e-15</td>\n",
       "      <td>0.244203</td>\n",
       "    </tr>\n",
       "  </tbody>\n",
       "</table>\n",
       "<p>5 rows × 33 columns</p>\n",
       "</div>"
      ],
      "text/plain": [
       "                            B        Bx    Bx_rms        By    By_rms  \\\n",
       "1997-10-01 00:00:00  6.584763  3.753262  2.303108  0.966140  2.602693   \n",
       "1997-10-01 00:10:00  6.036456  0.693559  1.810752 -0.904843  2.165570   \n",
       "1997-10-01 00:20:00  5.653682 -4.684786  0.893058 -2.668830  0.768677   \n",
       "1997-10-01 00:30:00  5.461768 -4.672382  1.081638 -2.425630  0.765681   \n",
       "1997-10-01 00:40:00  6.177846 -5.230110  1.046126 -2.872561  0.635256   \n",
       "\n",
       "                           Bz    Bz_rms     Na_nl         Np      Np_nl  \\\n",
       "1997-10-01 00:00:00 -5.179685  2.668414  2.290824  23.045732  24.352797   \n",
       "1997-10-01 00:10:00 -1.944006  2.372931  2.119593  23.000492  20.993362   \n",
       "1997-10-01 00:20:00  1.479302  1.069266  2.876815  20.676191  17.496399   \n",
       "1997-10-01 00:30:00  1.203713  0.934445  2.851195  20.730188  16.747108   \n",
       "1997-10-01 00:40:00  1.505010  0.850657  3.317076  20.675701  17.524536   \n",
       "\n",
       "                       ...        Range F 8     Range F 9           V  \\\n",
       "1997-10-01 00:00:00    ...     2.757919e+09  2.472087e+09  378.313934   \n",
       "1997-10-01 00:10:00    ...     3.365612e+09  3.087122e+09  350.421021   \n",
       "1997-10-01 00:20:00    ...     1.675611e+09  1.558640e+09  328.324493   \n",
       "1997-10-01 00:30:00    ...     1.589037e+09  1.439569e+09  319.436859   \n",
       "1997-10-01 00:40:00    ...     1.812308e+09  1.529260e+09  327.545929   \n",
       "\n",
       "                           Vth          Vx          Vy         Vz       Beta  \\\n",
       "1997-10-01 00:00:00  80.613098 -351.598389 -138.521454   6.956387   7.641340   \n",
       "1997-10-01 00:10:00  69.919327 -331.012146 -110.970787 -21.269474   9.149856   \n",
       "1997-10-01 00:20:00  92.194435 -306.114899 -117.035202 -13.018987  11.924199   \n",
       "1997-10-01 00:30:00  94.230705 -298.460938 -110.403969 -20.350492  16.032987   \n",
       "1997-10-01 00:40:00  89.292595 -307.303070 -111.865845 -12.313167  10.253789   \n",
       "\n",
       "                             Pdyn    RmsBob  \n",
       "1997-10-01 00:00:00  5.487331e-15  0.668473  \n",
       "1997-10-01 00:10:00  4.783776e-15  0.753848  \n",
       "1997-10-01 00:20:00  3.719768e-15  0.282667  \n",
       "1997-10-01 00:30:00  3.525211e-15  0.304713  \n",
       "1997-10-01 00:40:00  3.694283e-15  0.244203  \n",
       "\n",
       "[5 rows x 33 columns]"
      ]
     },
     "execution_count": 4,
     "metadata": {},
     "output_type": "execute_result"
    }
   ],
   "source": [
    "data_train.head()"
   ]
  },
  {
   "cell_type": "code",
   "execution_count": 5,
   "metadata": {
    "ExecuteTime": {
     "end_time": "2018-12-12T13:22:02.329163Z",
     "start_time": "2018-12-12T13:22:02.282292Z"
    }
   },
   "outputs": [
    {
     "data": {
      "text/plain": [
       "1997-10-01 00:00:00    0\n",
       "1997-10-01 00:10:00    0\n",
       "1997-10-01 00:20:00    0\n",
       "1997-10-01 00:30:00    0\n",
       "1997-10-01 00:40:00    0\n",
       "Name: label, dtype: int32"
      ]
     },
     "execution_count": 5,
     "metadata": {},
     "output_type": "execute_result"
    }
   ],
   "source": [
    "y_train.head()"
   ]
  },
  {
   "cell_type": "code",
   "execution_count": 108,
   "metadata": {
    "ExecuteTime": {
     "end_time": "2018-12-12T13:54:02.985561Z",
     "start_time": "2018-12-12T13:54:02.807364Z"
    }
   },
   "outputs": [],
   "source": [
    "data_test, y_test = problem.get_test_data()"
   ]
  },
  {
   "cell_type": "code",
   "execution_count": 7,
   "metadata": {
    "ExecuteTime": {
     "end_time": "2018-12-12T13:22:04.178379Z",
     "start_time": "2018-12-12T13:22:04.115901Z"
    }
   },
   "outputs": [
    {
     "data": {
      "text/html": [
       "<div>\n",
       "<style scoped>\n",
       "    .dataframe tbody tr th:only-of-type {\n",
       "        vertical-align: middle;\n",
       "    }\n",
       "\n",
       "    .dataframe tbody tr th {\n",
       "        vertical-align: top;\n",
       "    }\n",
       "\n",
       "    .dataframe thead th {\n",
       "        text-align: right;\n",
       "    }\n",
       "</style>\n",
       "<table border=\"1\" class=\"dataframe\">\n",
       "  <thead>\n",
       "    <tr style=\"text-align: right;\">\n",
       "      <th></th>\n",
       "      <th>B</th>\n",
       "      <th>Bx</th>\n",
       "      <th>Bx_rms</th>\n",
       "      <th>By</th>\n",
       "      <th>By_rms</th>\n",
       "      <th>Bz</th>\n",
       "      <th>Bz_rms</th>\n",
       "      <th>Na_nl</th>\n",
       "      <th>Np</th>\n",
       "      <th>Np_nl</th>\n",
       "      <th>...</th>\n",
       "      <th>Range F 8</th>\n",
       "      <th>Range F 9</th>\n",
       "      <th>V</th>\n",
       "      <th>Vth</th>\n",
       "      <th>Vx</th>\n",
       "      <th>Vy</th>\n",
       "      <th>Vz</th>\n",
       "      <th>Beta</th>\n",
       "      <th>Pdyn</th>\n",
       "      <th>RmsBob</th>\n",
       "    </tr>\n",
       "  </thead>\n",
       "  <tbody>\n",
       "    <tr>\n",
       "      <th>2008-01-01 00:00:00</th>\n",
       "      <td>4.191322</td>\n",
       "      <td>-3.683284</td>\n",
       "      <td>0.174691</td>\n",
       "      <td>1.798880</td>\n",
       "      <td>0.273878</td>\n",
       "      <td>-0.362722</td>\n",
       "      <td>0.428125</td>\n",
       "      <td>0.132609</td>\n",
       "      <td>6.028121</td>\n",
       "      <td>4.624486</td>\n",
       "      <td>...</td>\n",
       "      <td>9.860334e+08</td>\n",
       "      <td>1.558658e+09</td>\n",
       "      <td>346.071014</td>\n",
       "      <td>36.012177</td>\n",
       "      <td>-345.823730</td>\n",
       "      <td>2.977509</td>\n",
       "      <td>-6.587379</td>\n",
       "      <td>0.934875</td>\n",
       "      <td>1.208364e-15</td>\n",
       "      <td>0.129070</td>\n",
       "    </tr>\n",
       "    <tr>\n",
       "      <th>2008-01-01 00:10:00</th>\n",
       "      <td>4.257490</td>\n",
       "      <td>-2.976951</td>\n",
       "      <td>0.144501</td>\n",
       "      <td>2.953034</td>\n",
       "      <td>0.125648</td>\n",
       "      <td>0.410667</td>\n",
       "      <td>0.274116</td>\n",
       "      <td>0.123604</td>\n",
       "      <td>6.149254</td>\n",
       "      <td>5.863568</td>\n",
       "      <td>...</td>\n",
       "      <td>1.126279e+09</td>\n",
       "      <td>1.762056e+09</td>\n",
       "      <td>348.415741</td>\n",
       "      <td>34.976662</td>\n",
       "      <td>-348.193298</td>\n",
       "      <td>-5.476861</td>\n",
       "      <td>-10.663119</td>\n",
       "      <td>0.872927</td>\n",
       "      <td>1.248913e-15</td>\n",
       "      <td>0.079137</td>\n",
       "    </tr>\n",
       "    <tr>\n",
       "      <th>2008-01-01 00:20:00</th>\n",
       "      <td>4.190869</td>\n",
       "      <td>-3.058623</td>\n",
       "      <td>0.286867</td>\n",
       "      <td>2.442341</td>\n",
       "      <td>0.311452</td>\n",
       "      <td>-0.292565</td>\n",
       "      <td>0.326747</td>\n",
       "      <td>0.101965</td>\n",
       "      <td>6.070359</td>\n",
       "      <td>5.217190</td>\n",
       "      <td>...</td>\n",
       "      <td>1.144053e+09</td>\n",
       "      <td>1.718165e+09</td>\n",
       "      <td>348.164673</td>\n",
       "      <td>34.677750</td>\n",
       "      <td>-347.992798</td>\n",
       "      <td>-1.428905</td>\n",
       "      <td>-8.036335</td>\n",
       "      <td>0.879172</td>\n",
       "      <td>1.231391e-15</td>\n",
       "      <td>0.132966</td>\n",
       "    </tr>\n",
       "    <tr>\n",
       "      <th>2008-01-01 00:30:00</th>\n",
       "      <td>4.261395</td>\n",
       "      <td>-1.951039</td>\n",
       "      <td>0.148014</td>\n",
       "      <td>3.703976</td>\n",
       "      <td>0.095857</td>\n",
       "      <td>-0.347672</td>\n",
       "      <td>0.228227</td>\n",
       "      <td>0.079186</td>\n",
       "      <td>6.000411</td>\n",
       "      <td>5.828165</td>\n",
       "      <td>...</td>\n",
       "      <td>1.098246e+09</td>\n",
       "      <td>1.878379e+09</td>\n",
       "      <td>356.162506</td>\n",
       "      <td>32.947617</td>\n",
       "      <td>-355.946167</td>\n",
       "      <td>-10.620467</td>\n",
       "      <td>-5.134477</td>\n",
       "      <td>0.764977</td>\n",
       "      <td>1.272731e-15</td>\n",
       "      <td>0.069234</td>\n",
       "    </tr>\n",
       "    <tr>\n",
       "      <th>2008-01-01 00:40:00</th>\n",
       "      <td>4.267907</td>\n",
       "      <td>-1.729106</td>\n",
       "      <td>0.101710</td>\n",
       "      <td>3.840123</td>\n",
       "      <td>0.068386</td>\n",
       "      <td>0.392823</td>\n",
       "      <td>0.159227</td>\n",
       "      <td>0.073780</td>\n",
       "      <td>5.841330</td>\n",
       "      <td>5.708538</td>\n",
       "      <td>...</td>\n",
       "      <td>1.202470e+09</td>\n",
       "      <td>1.859657e+09</td>\n",
       "      <td>357.871826</td>\n",
       "      <td>31.242083</td>\n",
       "      <td>-357.522736</td>\n",
       "      <td>-9.289846</td>\n",
       "      <td>-12.252926</td>\n",
       "      <td>0.657990</td>\n",
       "      <td>1.251328e-15</td>\n",
       "      <td>0.047655</td>\n",
       "    </tr>\n",
       "  </tbody>\n",
       "</table>\n",
       "<p>5 rows × 33 columns</p>\n",
       "</div>"
      ],
      "text/plain": [
       "                            B        Bx    Bx_rms        By    By_rms  \\\n",
       "2008-01-01 00:00:00  4.191322 -3.683284  0.174691  1.798880  0.273878   \n",
       "2008-01-01 00:10:00  4.257490 -2.976951  0.144501  2.953034  0.125648   \n",
       "2008-01-01 00:20:00  4.190869 -3.058623  0.286867  2.442341  0.311452   \n",
       "2008-01-01 00:30:00  4.261395 -1.951039  0.148014  3.703976  0.095857   \n",
       "2008-01-01 00:40:00  4.267907 -1.729106  0.101710  3.840123  0.068386   \n",
       "\n",
       "                           Bz    Bz_rms     Na_nl        Np     Np_nl  \\\n",
       "2008-01-01 00:00:00 -0.362722  0.428125  0.132609  6.028121  4.624486   \n",
       "2008-01-01 00:10:00  0.410667  0.274116  0.123604  6.149254  5.863568   \n",
       "2008-01-01 00:20:00 -0.292565  0.326747  0.101965  6.070359  5.217190   \n",
       "2008-01-01 00:30:00 -0.347672  0.228227  0.079186  6.000411  5.828165   \n",
       "2008-01-01 00:40:00  0.392823  0.159227  0.073780  5.841330  5.708538   \n",
       "\n",
       "                       ...        Range F 8     Range F 9           V  \\\n",
       "2008-01-01 00:00:00    ...     9.860334e+08  1.558658e+09  346.071014   \n",
       "2008-01-01 00:10:00    ...     1.126279e+09  1.762056e+09  348.415741   \n",
       "2008-01-01 00:20:00    ...     1.144053e+09  1.718165e+09  348.164673   \n",
       "2008-01-01 00:30:00    ...     1.098246e+09  1.878379e+09  356.162506   \n",
       "2008-01-01 00:40:00    ...     1.202470e+09  1.859657e+09  357.871826   \n",
       "\n",
       "                           Vth          Vx         Vy         Vz      Beta  \\\n",
       "2008-01-01 00:00:00  36.012177 -345.823730   2.977509  -6.587379  0.934875   \n",
       "2008-01-01 00:10:00  34.976662 -348.193298  -5.476861 -10.663119  0.872927   \n",
       "2008-01-01 00:20:00  34.677750 -347.992798  -1.428905  -8.036335  0.879172   \n",
       "2008-01-01 00:30:00  32.947617 -355.946167 -10.620467  -5.134477  0.764977   \n",
       "2008-01-01 00:40:00  31.242083 -357.522736  -9.289846 -12.252926  0.657990   \n",
       "\n",
       "                             Pdyn    RmsBob  \n",
       "2008-01-01 00:00:00  1.208364e-15  0.129070  \n",
       "2008-01-01 00:10:00  1.248913e-15  0.079137  \n",
       "2008-01-01 00:20:00  1.231391e-15  0.132966  \n",
       "2008-01-01 00:30:00  1.272731e-15  0.069234  \n",
       "2008-01-01 00:40:00  1.251328e-15  0.047655  \n",
       "\n",
       "[5 rows x 33 columns]"
      ]
     },
     "execution_count": 7,
     "metadata": {},
     "output_type": "execute_result"
    }
   ],
   "source": [
    "data_test.head()"
   ]
  },
  {
   "cell_type": "code",
   "execution_count": 132,
   "metadata": {
    "ExecuteTime": {
     "end_time": "2018-12-12T14:22:34.574716Z",
     "start_time": "2018-12-12T14:22:34.512218Z"
    }
   },
   "outputs": [
    {
     "data": {
      "text/plain": [
       "2008-01-01 00:00:00    0.934875\n",
       "2008-01-01 00:10:00    0.872927\n",
       "2008-01-01 00:20:00    0.879172\n",
       "2008-01-01 00:30:00    0.764977\n",
       "2008-01-01 00:40:00    0.657990\n",
       "2008-01-01 00:50:00    0.913904\n",
       "2008-01-01 01:00:00    0.832539\n",
       "2008-01-01 01:10:00    0.787217\n",
       "2008-01-01 01:20:00    0.783338\n",
       "2008-01-01 01:30:00    0.784557\n",
       "2008-01-01 01:40:00    0.725237\n",
       "2008-01-01 01:50:00    0.706322\n",
       "2008-01-01 02:00:00    0.850273\n",
       "2008-01-01 02:10:00    0.757645\n",
       "2008-01-01 02:20:00    0.834654\n",
       "2008-01-01 02:30:00    1.508149\n",
       "2008-01-01 02:40:00    0.979537\n",
       "2008-01-01 02:50:00    1.290108\n",
       "2008-01-01 03:00:00    0.624813\n",
       "2008-01-01 03:10:00    0.930731\n",
       "2008-01-01 03:20:00    1.012765\n",
       "2008-01-01 03:30:00    0.475295\n",
       "2008-01-01 03:40:00    0.239807\n",
       "2008-01-01 03:50:00    0.315444\n",
       "2008-01-01 04:00:00    0.688729\n",
       "2008-01-01 04:10:00    0.770709\n",
       "2008-01-01 04:20:00    0.805724\n",
       "2008-01-01 04:30:00    0.716660\n",
       "2008-01-01 04:40:00    0.544043\n",
       "2008-01-01 04:50:00    0.830694\n",
       "                         ...   \n",
       "2011-12-31 19:00:00    0.106827\n",
       "2011-12-31 19:10:00    0.115904\n",
       "2011-12-31 19:20:00    0.113403\n",
       "2011-12-31 19:30:00    0.134350\n",
       "2011-12-31 19:40:00    0.120726\n",
       "2011-12-31 19:50:00    0.140155\n",
       "2011-12-31 20:00:00    0.120992\n",
       "2011-12-31 20:10:00    0.111860\n",
       "2011-12-31 20:20:00    0.120557\n",
       "2011-12-31 20:30:00    0.105590\n",
       "2011-12-31 20:40:00    0.099637\n",
       "2011-12-31 20:50:00    0.098093\n",
       "2011-12-31 21:00:00    0.104066\n",
       "2011-12-31 21:10:00    0.106062\n",
       "2011-12-31 21:20:00    0.106898\n",
       "2011-12-31 21:30:00    0.098845\n",
       "2011-12-31 21:40:00    0.096004\n",
       "2011-12-31 21:50:00    0.085597\n",
       "2011-12-31 22:00:00    0.102928\n",
       "2011-12-31 22:10:00    0.087613\n",
       "2011-12-31 22:20:00    0.096958\n",
       "2011-12-31 22:30:00    0.085897\n",
       "2011-12-31 22:40:00    0.164717\n",
       "2011-12-31 22:50:00    0.240466\n",
       "2011-12-31 23:00:00    0.271447\n",
       "2011-12-31 23:10:00    1.422842\n",
       "2011-12-31 23:20:00    0.475713\n",
       "2011-12-31 23:30:00    0.544408\n",
       "2011-12-31 23:40:00    0.521221\n",
       "2011-12-31 23:50:00    0.627750\n",
       "Name: Beta, Length: 205574, dtype: float64"
      ]
     },
     "execution_count": 132,
     "metadata": {},
     "output_type": "execute_result"
    }
   ],
   "source": [
    "data_test['Beta']"
   ]
  },
  {
   "cell_type": "markdown",
   "metadata": {},
   "source": [
    "### Feature extraction"
   ]
  },
  {
   "cell_type": "code",
   "execution_count": 8,
   "metadata": {
    "ExecuteTime": {
     "end_time": "2018-12-12T13:22:06.812599Z",
     "start_time": "2018-12-12T13:22:06.797042Z"
    }
   },
   "outputs": [],
   "source": [
    "import sys\n",
    "sys.path.insert(0, './submissions/starting_kit/')"
   ]
  },
  {
   "cell_type": "code",
   "execution_count": 9,
   "metadata": {
    "ExecuteTime": {
     "end_time": "2018-12-12T13:22:07.878469Z",
     "start_time": "2018-12-12T13:22:07.862843Z"
    }
   },
   "outputs": [],
   "source": [
    "from ts_feature_extractor import FeatureExtractor"
   ]
  },
  {
   "cell_type": "code",
   "execution_count": 10,
   "metadata": {
    "ExecuteTime": {
     "end_time": "2018-12-12T13:22:11.029922Z",
     "start_time": "2018-12-12T13:22:11.014360Z"
    }
   },
   "outputs": [],
   "source": [
    "fe = FeatureExtractor()"
   ]
  },
  {
   "cell_type": "code",
   "execution_count": 11,
   "metadata": {
    "ExecuteTime": {
     "end_time": "2018-12-12T13:22:11.909822Z",
     "start_time": "2018-12-12T13:22:11.691011Z"
    },
    "scrolled": false
   },
   "outputs": [],
   "source": [
    "X_train_t = fe.transform(data_train)"
   ]
  },
  {
   "cell_type": "code",
   "execution_count": 12,
   "metadata": {
    "ExecuteTime": {
     "end_time": "2018-12-12T13:22:12.520537Z",
     "start_time": "2018-12-12T13:22:12.458107Z"
    }
   },
   "outputs": [
    {
     "data": {
      "text/html": [
       "<div>\n",
       "<style scoped>\n",
       "    .dataframe tbody tr th:only-of-type {\n",
       "        vertical-align: middle;\n",
       "    }\n",
       "\n",
       "    .dataframe tbody tr th {\n",
       "        vertical-align: top;\n",
       "    }\n",
       "\n",
       "    .dataframe thead th {\n",
       "        text-align: right;\n",
       "    }\n",
       "</style>\n",
       "<table border=\"1\" class=\"dataframe\">\n",
       "  <thead>\n",
       "    <tr style=\"text-align: right;\">\n",
       "      <th></th>\n",
       "      <th>B</th>\n",
       "      <th>Bx</th>\n",
       "      <th>Bx_rms</th>\n",
       "      <th>By</th>\n",
       "      <th>By_rms</th>\n",
       "      <th>Bz</th>\n",
       "      <th>Bz_rms</th>\n",
       "      <th>Na_nl</th>\n",
       "      <th>Np</th>\n",
       "      <th>Np_nl</th>\n",
       "      <th>...</th>\n",
       "      <th>Range F 9</th>\n",
       "      <th>V</th>\n",
       "      <th>Vth</th>\n",
       "      <th>Vx</th>\n",
       "      <th>Vy</th>\n",
       "      <th>Vz</th>\n",
       "      <th>Beta</th>\n",
       "      <th>Pdyn</th>\n",
       "      <th>RmsBob</th>\n",
       "      <th>Beta_2h_std</th>\n",
       "    </tr>\n",
       "  </thead>\n",
       "  <tbody>\n",
       "    <tr>\n",
       "      <th>1997-10-01 00:00:00</th>\n",
       "      <td>6.584763</td>\n",
       "      <td>3.753262</td>\n",
       "      <td>2.303108</td>\n",
       "      <td>0.966140</td>\n",
       "      <td>2.602693</td>\n",
       "      <td>-5.179685</td>\n",
       "      <td>2.668414</td>\n",
       "      <td>2.290824</td>\n",
       "      <td>23.045732</td>\n",
       "      <td>24.352797</td>\n",
       "      <td>...</td>\n",
       "      <td>2.472087e+09</td>\n",
       "      <td>378.313934</td>\n",
       "      <td>80.613098</td>\n",
       "      <td>-351.598389</td>\n",
       "      <td>-138.521454</td>\n",
       "      <td>6.956387</td>\n",
       "      <td>7.641340</td>\n",
       "      <td>5.487331e-15</td>\n",
       "      <td>0.668473</td>\n",
       "      <td>1.066682</td>\n",
       "    </tr>\n",
       "    <tr>\n",
       "      <th>1997-10-01 00:10:00</th>\n",
       "      <td>6.036456</td>\n",
       "      <td>0.693559</td>\n",
       "      <td>1.810752</td>\n",
       "      <td>-0.904843</td>\n",
       "      <td>2.165570</td>\n",
       "      <td>-1.944006</td>\n",
       "      <td>2.372931</td>\n",
       "      <td>2.119593</td>\n",
       "      <td>23.000492</td>\n",
       "      <td>20.993362</td>\n",
       "      <td>...</td>\n",
       "      <td>3.087122e+09</td>\n",
       "      <td>350.421021</td>\n",
       "      <td>69.919327</td>\n",
       "      <td>-331.012146</td>\n",
       "      <td>-110.970787</td>\n",
       "      <td>-21.269474</td>\n",
       "      <td>9.149856</td>\n",
       "      <td>4.783776e-15</td>\n",
       "      <td>0.753848</td>\n",
       "      <td>1.066682</td>\n",
       "    </tr>\n",
       "    <tr>\n",
       "      <th>1997-10-01 00:20:00</th>\n",
       "      <td>5.653682</td>\n",
       "      <td>-4.684786</td>\n",
       "      <td>0.893058</td>\n",
       "      <td>-2.668830</td>\n",
       "      <td>0.768677</td>\n",
       "      <td>1.479302</td>\n",
       "      <td>1.069266</td>\n",
       "      <td>2.876815</td>\n",
       "      <td>20.676191</td>\n",
       "      <td>17.496399</td>\n",
       "      <td>...</td>\n",
       "      <td>1.558640e+09</td>\n",
       "      <td>328.324493</td>\n",
       "      <td>92.194435</td>\n",
       "      <td>-306.114899</td>\n",
       "      <td>-117.035202</td>\n",
       "      <td>-13.018987</td>\n",
       "      <td>11.924199</td>\n",
       "      <td>3.719768e-15</td>\n",
       "      <td>0.282667</td>\n",
       "      <td>2.172383</td>\n",
       "    </tr>\n",
       "    <tr>\n",
       "      <th>1997-10-01 00:30:00</th>\n",
       "      <td>5.461768</td>\n",
       "      <td>-4.672382</td>\n",
       "      <td>1.081638</td>\n",
       "      <td>-2.425630</td>\n",
       "      <td>0.765681</td>\n",
       "      <td>1.203713</td>\n",
       "      <td>0.934445</td>\n",
       "      <td>2.851195</td>\n",
       "      <td>20.730188</td>\n",
       "      <td>16.747108</td>\n",
       "      <td>...</td>\n",
       "      <td>1.439569e+09</td>\n",
       "      <td>319.436859</td>\n",
       "      <td>94.230705</td>\n",
       "      <td>-298.460938</td>\n",
       "      <td>-110.403969</td>\n",
       "      <td>-20.350492</td>\n",
       "      <td>16.032987</td>\n",
       "      <td>3.525211e-15</td>\n",
       "      <td>0.304713</td>\n",
       "      <td>3.685499</td>\n",
       "    </tr>\n",
       "    <tr>\n",
       "      <th>1997-10-01 00:40:00</th>\n",
       "      <td>6.177846</td>\n",
       "      <td>-5.230110</td>\n",
       "      <td>1.046126</td>\n",
       "      <td>-2.872561</td>\n",
       "      <td>0.635256</td>\n",
       "      <td>1.505010</td>\n",
       "      <td>0.850657</td>\n",
       "      <td>3.317076</td>\n",
       "      <td>20.675701</td>\n",
       "      <td>17.524536</td>\n",
       "      <td>...</td>\n",
       "      <td>1.529260e+09</td>\n",
       "      <td>327.545929</td>\n",
       "      <td>89.292595</td>\n",
       "      <td>-307.303070</td>\n",
       "      <td>-111.865845</td>\n",
       "      <td>-12.313167</td>\n",
       "      <td>10.253789</td>\n",
       "      <td>3.694283e-15</td>\n",
       "      <td>0.244203</td>\n",
       "      <td>3.218911</td>\n",
       "    </tr>\n",
       "  </tbody>\n",
       "</table>\n",
       "<p>5 rows × 34 columns</p>\n",
       "</div>"
      ],
      "text/plain": [
       "                            B        Bx    Bx_rms        By    By_rms  \\\n",
       "1997-10-01 00:00:00  6.584763  3.753262  2.303108  0.966140  2.602693   \n",
       "1997-10-01 00:10:00  6.036456  0.693559  1.810752 -0.904843  2.165570   \n",
       "1997-10-01 00:20:00  5.653682 -4.684786  0.893058 -2.668830  0.768677   \n",
       "1997-10-01 00:30:00  5.461768 -4.672382  1.081638 -2.425630  0.765681   \n",
       "1997-10-01 00:40:00  6.177846 -5.230110  1.046126 -2.872561  0.635256   \n",
       "\n",
       "                           Bz    Bz_rms     Na_nl         Np      Np_nl  \\\n",
       "1997-10-01 00:00:00 -5.179685  2.668414  2.290824  23.045732  24.352797   \n",
       "1997-10-01 00:10:00 -1.944006  2.372931  2.119593  23.000492  20.993362   \n",
       "1997-10-01 00:20:00  1.479302  1.069266  2.876815  20.676191  17.496399   \n",
       "1997-10-01 00:30:00  1.203713  0.934445  2.851195  20.730188  16.747108   \n",
       "1997-10-01 00:40:00  1.505010  0.850657  3.317076  20.675701  17.524536   \n",
       "\n",
       "                        ...          Range F 9           V        Vth  \\\n",
       "1997-10-01 00:00:00     ...       2.472087e+09  378.313934  80.613098   \n",
       "1997-10-01 00:10:00     ...       3.087122e+09  350.421021  69.919327   \n",
       "1997-10-01 00:20:00     ...       1.558640e+09  328.324493  92.194435   \n",
       "1997-10-01 00:30:00     ...       1.439569e+09  319.436859  94.230705   \n",
       "1997-10-01 00:40:00     ...       1.529260e+09  327.545929  89.292595   \n",
       "\n",
       "                             Vx          Vy         Vz       Beta  \\\n",
       "1997-10-01 00:00:00 -351.598389 -138.521454   6.956387   7.641340   \n",
       "1997-10-01 00:10:00 -331.012146 -110.970787 -21.269474   9.149856   \n",
       "1997-10-01 00:20:00 -306.114899 -117.035202 -13.018987  11.924199   \n",
       "1997-10-01 00:30:00 -298.460938 -110.403969 -20.350492  16.032987   \n",
       "1997-10-01 00:40:00 -307.303070 -111.865845 -12.313167  10.253789   \n",
       "\n",
       "                             Pdyn    RmsBob  Beta_2h_std  \n",
       "1997-10-01 00:00:00  5.487331e-15  0.668473     1.066682  \n",
       "1997-10-01 00:10:00  4.783776e-15  0.753848     1.066682  \n",
       "1997-10-01 00:20:00  3.719768e-15  0.282667     2.172383  \n",
       "1997-10-01 00:30:00  3.525211e-15  0.304713     3.685499  \n",
       "1997-10-01 00:40:00  3.694283e-15  0.244203     3.218911  \n",
       "\n",
       "[5 rows x 34 columns]"
      ]
     },
     "execution_count": 12,
     "metadata": {},
     "output_type": "execute_result"
    }
   ],
   "source": [
    "X_train_t.head()"
   ]
  },
  {
   "cell_type": "code",
   "execution_count": 13,
   "metadata": {
    "ExecuteTime": {
     "end_time": "2018-12-12T13:22:14.401916Z",
     "start_time": "2018-12-12T13:22:13.071040Z"
    }
   },
   "outputs": [],
   "source": [
    "X_train_t.fillna(X_train_t.median(), inplace=True)"
   ]
  },
  {
   "cell_type": "markdown",
   "metadata": {},
   "source": [
    "### Trying model"
   ]
  },
  {
   "cell_type": "code",
   "execution_count": 14,
   "metadata": {
    "ExecuteTime": {
     "end_time": "2018-12-12T13:22:14.558162Z",
     "start_time": "2018-12-12T13:22:14.401916Z"
    }
   },
   "outputs": [],
   "source": [
    "from sklearn.ensemble import RandomForestClassifier\n",
    "from sklearn.metrics import classification_report, confusion_matrix"
   ]
  },
  {
   "cell_type": "code",
   "execution_count": 133,
   "metadata": {
    "ExecuteTime": {
     "end_time": "2018-12-12T14:23:34.597167Z",
     "start_time": "2018-12-12T14:23:34.581544Z"
    }
   },
   "outputs": [],
   "source": [
    "model = RandomForestClassifier(n_jobs=-1)"
   ]
  },
  {
   "cell_type": "code",
   "execution_count": 134,
   "metadata": {
    "ExecuteTime": {
     "end_time": "2018-12-12T14:24:03.073414Z",
     "start_time": "2018-12-12T14:23:37.747045Z"
    }
   },
   "outputs": [
    {
     "name": "stderr",
     "output_type": "stream",
     "text": [
      "c:\\users\\user\\appdata\\local\\programs\\python\\python36\\lib\\site-packages\\sklearn\\ensemble\\forest.py:246: FutureWarning: The default value of n_estimators will change from 10 in version 0.20 to 100 in 0.22.\n",
      "  \"10 in version 0.20 to 100 in 0.22.\", FutureWarning)\n"
     ]
    },
    {
     "data": {
      "text/plain": [
       "RandomForestClassifier(bootstrap=True, class_weight=None, criterion='gini',\n",
       "            max_depth=None, max_features='auto', max_leaf_nodes=None,\n",
       "            min_impurity_decrease=0.0, min_impurity_split=None,\n",
       "            min_samples_leaf=1, min_samples_split=2,\n",
       "            min_weight_fraction_leaf=0.0, n_estimators=10, n_jobs=-1,\n",
       "            oob_score=False, random_state=None, verbose=0,\n",
       "            warm_start=False)"
      ]
     },
     "execution_count": 134,
     "metadata": {},
     "output_type": "execute_result"
    }
   ],
   "source": [
    "model.fit(X_train_t, y_train)"
   ]
  },
  {
   "cell_type": "code",
   "execution_count": 27,
   "metadata": {
    "ExecuteTime": {
     "end_time": "2018-12-12T13:27:27.920579Z",
     "start_time": "2018-12-12T13:27:26.949635Z"
    }
   },
   "outputs": [
    {
     "name": "stdout",
     "output_type": "stream",
     "text": [
      "0.9965969315502693\n"
     ]
    }
   ],
   "source": [
    "print(model.score(X_train_t, y_train))"
   ]
  },
  {
   "cell_type": "code",
   "execution_count": 28,
   "metadata": {
    "ExecuteTime": {
     "end_time": "2018-12-12T13:27:31.669166Z",
     "start_time": "2018-12-12T13:27:30.824951Z"
    }
   },
   "outputs": [],
   "source": [
    "y_pred = model.predict(X_train_t)"
   ]
  },
  {
   "cell_type": "code",
   "execution_count": 29,
   "metadata": {
    "ExecuteTime": {
     "end_time": "2018-12-12T13:27:36.388113Z",
     "start_time": "2018-12-12T13:27:35.854459Z"
    }
   },
   "outputs": [
    {
     "name": "stdout",
     "output_type": "stream",
     "text": [
      "              precision    recall  f1-score   support\n",
      "\n",
      "           0       1.00      1.00      1.00    451269\n",
      "           1       1.00      0.97      0.98     58565\n",
      "\n",
      "   micro avg       1.00      1.00      1.00    509834\n",
      "   macro avg       1.00      0.99      0.99    509834\n",
      "weighted avg       1.00      1.00      1.00    509834\n",
      "\n"
     ]
    }
   ],
   "source": [
    "print(classification_report(y_train, y_pred))"
   ]
  },
  {
   "cell_type": "code",
   "execution_count": 32,
   "metadata": {
    "ExecuteTime": {
     "end_time": "2018-12-12T13:28:18.268594Z",
     "start_time": "2018-12-12T13:28:17.734935Z"
    }
   },
   "outputs": [
    {
     "name": "stdout",
     "output_type": "stream",
     "text": [
      "[[451228     41]\n",
      " [  1694  56871]]\n"
     ]
    }
   ],
   "source": [
    "print(confusion_matrix(y_train, y_pred))"
   ]
  },
  {
   "cell_type": "markdown",
   "metadata": {},
   "source": [
    "On test data:"
   ]
  },
  {
   "cell_type": "code",
   "execution_count": 33,
   "metadata": {
    "ExecuteTime": {
     "end_time": "2018-12-12T13:28:22.909795Z",
     "start_time": "2018-12-12T13:28:22.816049Z"
    },
    "scrolled": false
   },
   "outputs": [],
   "source": [
    "X_test_t = fe.transform(data_test)"
   ]
  },
  {
   "cell_type": "code",
   "execution_count": 34,
   "metadata": {
    "ExecuteTime": {
     "end_time": "2018-12-12T13:28:26.688751Z",
     "start_time": "2018-12-12T13:28:26.140327Z"
    }
   },
   "outputs": [],
   "source": [
    "X_test_t.fillna(X_test_t.median(), inplace=True)"
   ]
  },
  {
   "cell_type": "code",
   "execution_count": 35,
   "metadata": {
    "ExecuteTime": {
     "end_time": "2018-12-12T13:28:29.820862Z",
     "start_time": "2018-12-12T13:28:29.387871Z"
    }
   },
   "outputs": [],
   "source": [
    "y_pred_test = model.predict(X_test_t)"
   ]
  },
  {
   "cell_type": "code",
   "execution_count": 38,
   "metadata": {
    "ExecuteTime": {
     "end_time": "2018-12-12T13:28:42.651007Z",
     "start_time": "2018-12-12T13:28:42.447893Z"
    }
   },
   "outputs": [
    {
     "name": "stdout",
     "output_type": "stream",
     "text": [
      "[[190791    964]\n",
      " [ 10325   3494]]\n"
     ]
    }
   ],
   "source": [
    "print(confusion_matrix(y_test, y_pred_test))"
   ]
  },
  {
   "cell_type": "code",
   "execution_count": 39,
   "metadata": {
    "ExecuteTime": {
     "end_time": "2018-12-12T13:28:43.218007Z",
     "start_time": "2018-12-12T13:28:43.014887Z"
    },
    "scrolled": true
   },
   "outputs": [
    {
     "name": "stdout",
     "output_type": "stream",
     "text": [
      "              precision    recall  f1-score   support\n",
      "\n",
      "           0       0.95      0.99      0.97    191755\n",
      "           1       0.78      0.25      0.38     13819\n",
      "\n",
      "   micro avg       0.95      0.95      0.95    205574\n",
      "   macro avg       0.87      0.62      0.68    205574\n",
      "weighted avg       0.94      0.95      0.93    205574\n",
      "\n"
     ]
    }
   ],
   "source": [
    "print(classification_report(y_test, y_pred_test))"
   ]
  },
  {
   "cell_type": "markdown",
   "metadata": {},
   "source": [
    "Trying a balancing technique:"
   ]
  },
  {
   "cell_type": "code",
   "execution_count": 40,
   "metadata": {
    "ExecuteTime": {
     "end_time": "2018-12-12T13:28:56.106164Z",
     "start_time": "2018-12-12T13:28:56.090539Z"
    }
   },
   "outputs": [],
   "source": [
    "from sklearn.tree import DecisionTreeClassifier"
   ]
  },
  {
   "cell_type": "code",
   "execution_count": 41,
   "metadata": {
    "ExecuteTime": {
     "end_time": "2018-12-12T13:28:56.953067Z",
     "start_time": "2018-12-12T13:28:56.640544Z"
    }
   },
   "outputs": [],
   "source": [
    "from imblearn.ensemble import BalancedBaggingClassifier"
   ]
  },
  {
   "cell_type": "code",
   "execution_count": 42,
   "metadata": {
    "ExecuteTime": {
     "end_time": "2018-12-12T13:28:57.220283Z",
     "start_time": "2018-12-12T13:28:57.189100Z"
    }
   },
   "outputs": [],
   "source": [
    "bbc = BalancedBaggingClassifier(base_estimator=DecisionTreeClassifier(max_features='auto'),\n",
    "                                ratio='auto',\n",
    "                                replacement=False,\n",
    "                                random_state=0)"
   ]
  },
  {
   "cell_type": "code",
   "execution_count": 43,
   "metadata": {
    "ExecuteTime": {
     "end_time": "2018-12-12T13:29:21.633504Z",
     "start_time": "2018-12-12T13:28:57.704283Z"
    }
   },
   "outputs": [
    {
     "data": {
      "text/plain": [
       "BalancedBaggingClassifier(base_estimator=DecisionTreeClassifier(class_weight=None, criterion='gini', max_depth=None,\n",
       "            max_features='auto', max_leaf_nodes=None,\n",
       "            min_impurity_decrease=0.0, min_impurity_split=None,\n",
       "            min_samples_leaf=1, min_samples_split=2,\n",
       "            min_weight_fraction_leaf=0.0, presort=False, random_state=None,\n",
       "            splitter='best'),\n",
       "             bootstrap=True, bootstrap_features=False, max_features=1.0,\n",
       "             max_samples=1.0, n_estimators=10, n_jobs=1, oob_score=False,\n",
       "             random_state=0, ratio='auto', replacement=False,\n",
       "             sampling_strategy='auto', verbose=0, warm_start=False)"
      ]
     },
     "execution_count": 43,
     "metadata": {},
     "output_type": "execute_result"
    }
   ],
   "source": [
    "bbc.fit(X_train_t, y_train)"
   ]
  },
  {
   "cell_type": "code",
   "execution_count": 44,
   "metadata": {
    "ExecuteTime": {
     "end_time": "2018-12-12T13:29:24.972999Z",
     "start_time": "2018-12-12T13:29:21.633504Z"
    }
   },
   "outputs": [],
   "source": [
    "y_pred_bcc = bbc.predict(X_train_t)"
   ]
  },
  {
   "cell_type": "code",
   "execution_count": 45,
   "metadata": {
    "ExecuteTime": {
     "end_time": "2018-12-12T13:29:25.584112Z",
     "start_time": "2018-12-12T13:29:24.972999Z"
    }
   },
   "outputs": [
    {
     "name": "stdout",
     "output_type": "stream",
     "text": [
      "              precision    recall  f1-score   support\n",
      "\n",
      "           0       1.00      0.96      0.98    451269\n",
      "           1       0.76      0.99      0.86     58565\n",
      "\n",
      "   micro avg       0.96      0.96      0.96    509834\n",
      "   macro avg       0.88      0.98      0.92    509834\n",
      "weighted avg       0.97      0.96      0.97    509834\n",
      "\n"
     ]
    }
   ],
   "source": [
    "print(classification_report(y_train, y_pred_bcc))"
   ]
  },
  {
   "cell_type": "code",
   "execution_count": 46,
   "metadata": {
    "ExecuteTime": {
     "end_time": "2018-12-12T13:29:26.086807Z",
     "start_time": "2018-12-12T13:29:25.584112Z"
    }
   },
   "outputs": [
    {
     "name": "stdout",
     "output_type": "stream",
     "text": [
      "[[433330  17939]\n",
      " [   571  57994]]\n"
     ]
    }
   ],
   "source": [
    "print(confusion_matrix(y_train, y_pred_bcc))"
   ]
  },
  {
   "cell_type": "code",
   "execution_count": 47,
   "metadata": {
    "ExecuteTime": {
     "end_time": "2018-12-12T13:29:27.466098Z",
     "start_time": "2018-12-12T13:29:26.086807Z"
    }
   },
   "outputs": [],
   "source": [
    "y_pred_bbc_test = bbc.predict(X_test_t)"
   ]
  },
  {
   "cell_type": "code",
   "execution_count": 48,
   "metadata": {
    "ExecuteTime": {
     "end_time": "2018-12-12T13:29:27.653592Z",
     "start_time": "2018-12-12T13:29:27.466098Z"
    }
   },
   "outputs": [
    {
     "name": "stdout",
     "output_type": "stream",
     "text": [
      "[[186719   5036]\n",
      " [  7365   6454]]\n"
     ]
    }
   ],
   "source": [
    "print(confusion_matrix(y_test, y_pred_bbc_test))"
   ]
  },
  {
   "cell_type": "code",
   "execution_count": 63,
   "metadata": {
    "ExecuteTime": {
     "end_time": "2018-12-12T13:34:00.285251Z",
     "start_time": "2018-12-12T13:34:00.089030Z"
    },
    "scrolled": true
   },
   "outputs": [
    {
     "name": "stdout",
     "output_type": "stream",
     "text": [
      "              precision    recall  f1-score   support\n",
      "\n",
      "           0       0.95      0.99      0.97    191755\n",
      "           1       0.76      0.28      0.41     13819\n",
      "\n",
      "   micro avg       0.95      0.95      0.95    205574\n",
      "   macro avg       0.86      0.64      0.69    205574\n",
      "weighted avg       0.94      0.95      0.93    205574\n",
      "\n"
     ]
    }
   ],
   "source": [
    "print(classification_report(y_test, y_pred_bbc_test))"
   ]
  },
  {
   "cell_type": "markdown",
   "metadata": {},
   "source": [
    "The above could do "
   ]
  },
  {
   "cell_type": "code",
   "execution_count": null,
   "metadata": {},
   "outputs": [],
   "source": []
  },
  {
   "cell_type": "code",
   "execution_count": 71,
   "metadata": {
    "ExecuteTime": {
     "end_time": "2018-12-12T13:34:34.395351Z",
     "start_time": "2018-12-12T13:34:34.385065Z"
    }
   },
   "outputs": [
    {
     "data": {
      "text/plain": [
       "Counter({0: 1, 1: 2, '1': 1, 2: 1})"
      ]
     },
     "execution_count": 71,
     "metadata": {},
     "output_type": "execute_result"
    }
   ],
   "source": [
    "from collections import Counter"
   ]
  },
  {
   "cell_type": "code",
   "execution_count": 83,
   "metadata": {
    "ExecuteTime": {
     "end_time": "2018-12-12T13:41:30.736618Z",
     "start_time": "2018-12-12T13:41:30.716474Z"
    }
   },
   "outputs": [],
   "source": [
    "def determine_ratio(y):\n",
    "    target_stats = Counter(y)\n",
    "    max_ = max(target_stats.values())\n",
    "    ratio = min(target_stats.values()) / max(target_stats.values()) * 5\n",
    "\n",
    "    return {key: int(value * ratio)\n",
    "            for key, value in target_stats.items() if value == max_}"
   ]
  },
  {
   "cell_type": "code",
   "execution_count": 84,
   "metadata": {
    "ExecuteTime": {
     "end_time": "2018-12-12T13:41:31.196464Z",
     "start_time": "2018-12-12T13:41:31.136619Z"
    }
   },
   "outputs": [
    {
     "data": {
      "text/plain": [
       "Counter({0: 451269, 1: 58565})"
      ]
     },
     "execution_count": 84,
     "metadata": {},
     "output_type": "execute_result"
    }
   ],
   "source": [
    "Counter(y_train)"
   ]
  },
  {
   "cell_type": "code",
   "execution_count": 85,
   "metadata": {
    "ExecuteTime": {
     "end_time": "2018-12-12T13:41:31.576525Z",
     "start_time": "2018-12-12T13:41:31.510607Z"
    }
   },
   "outputs": [
    {
     "data": {
      "text/plain": [
       "{0: 292825}"
      ]
     },
     "execution_count": 85,
     "metadata": {},
     "output_type": "execute_result"
    }
   ],
   "source": [
    "determine_ratio(y_train)"
   ]
  },
  {
   "cell_type": "code",
   "execution_count": 86,
   "metadata": {
    "ExecuteTime": {
     "end_time": "2018-12-12T13:41:47.566468Z",
     "start_time": "2018-12-12T13:41:47.535244Z"
    }
   },
   "outputs": [],
   "source": [
    "bbc2 = BalancedBaggingClassifier(base_estimator=DecisionTreeClassifier(max_features='auto'),\n",
    "                                 ratio=determine_ratio, random_state=0)"
   ]
  },
  {
   "cell_type": "code",
   "execution_count": 87,
   "metadata": {
    "ExecuteTime": {
     "end_time": "2018-12-12T13:42:57.531743Z",
     "start_time": "2018-12-12T13:41:47.956350Z"
    }
   },
   "outputs": [
    {
     "data": {
      "text/plain": [
       "BalancedBaggingClassifier(base_estimator=DecisionTreeClassifier(class_weight=None, criterion='gini', max_depth=None,\n",
       "            max_features='auto', max_leaf_nodes=None,\n",
       "            min_impurity_decrease=0.0, min_impurity_split=None,\n",
       "            min_samples_leaf=1, min_samples_split=2,\n",
       "            min_weight_fraction_leaf=0.0, presort=False, random_state=None,\n",
       "            splitter='best'),\n",
       "             bootstrap=True, bootstrap_features=False, max_features=1.0,\n",
       "             max_samples=1.0, n_estimators=10, n_jobs=1, oob_score=False,\n",
       "             random_state=0,\n",
       "             ratio=<function determine_ratio at 0x0000020EDB06FE18>,\n",
       "             replacement=False, sampling_strategy='auto', verbose=0,\n",
       "             warm_start=False)"
      ]
     },
     "execution_count": 87,
     "metadata": {},
     "output_type": "execute_result"
    }
   ],
   "source": [
    "bbc2.fit(X_train_t, y_train)"
   ]
  },
  {
   "cell_type": "code",
   "execution_count": 88,
   "metadata": {
    "ExecuteTime": {
     "end_time": "2018-12-12T13:43:01.371840Z",
     "start_time": "2018-12-12T13:42:57.535748Z"
    }
   },
   "outputs": [],
   "source": [
    "y_pred_bcc = bbc2.predict(X_train_t)"
   ]
  },
  {
   "cell_type": "code",
   "execution_count": 89,
   "metadata": {
    "ExecuteTime": {
     "end_time": "2018-12-12T13:43:01.938788Z",
     "start_time": "2018-12-12T13:43:01.375290Z"
    }
   },
   "outputs": [
    {
     "name": "stdout",
     "output_type": "stream",
     "text": [
      "              precision    recall  f1-score   support\n",
      "\n",
      "           0       1.00      1.00      1.00    451269\n",
      "           1       0.99      0.98      0.98     58565\n",
      "\n",
      "   micro avg       1.00      1.00      1.00    509834\n",
      "   macro avg       1.00      0.99      0.99    509834\n",
      "weighted avg       1.00      1.00      1.00    509834\n",
      "\n"
     ]
    }
   ],
   "source": [
    "print(classification_report(y_train, y_pred_bcc))"
   ]
  },
  {
   "cell_type": "code",
   "execution_count": 90,
   "metadata": {
    "ExecuteTime": {
     "end_time": "2018-12-12T13:43:02.432089Z",
     "start_time": "2018-12-12T13:43:01.942152Z"
    }
   },
   "outputs": [
    {
     "name": "stdout",
     "output_type": "stream",
     "text": [
      "[[450963    306]\n",
      " [  1436  57129]]\n"
     ]
    }
   ],
   "source": [
    "print(confusion_matrix(y_train, y_pred_bcc))"
   ]
  },
  {
   "cell_type": "code",
   "execution_count": 91,
   "metadata": {
    "ExecuteTime": {
     "end_time": "2018-12-12T13:43:03.882079Z",
     "start_time": "2018-12-12T13:43:02.435236Z"
    }
   },
   "outputs": [],
   "source": [
    "y_pred_bbc_test = bbc2.predict(X_test_t)"
   ]
  },
  {
   "cell_type": "code",
   "execution_count": 92,
   "metadata": {
    "ExecuteTime": {
     "end_time": "2018-12-12T13:43:04.082147Z",
     "start_time": "2018-12-12T13:43:03.882079Z"
    }
   },
   "outputs": [
    {
     "name": "stdout",
     "output_type": "stream",
     "text": [
      "[[190555   1200]\n",
      " [  9961   3858]]\n"
     ]
    }
   ],
   "source": [
    "print(confusion_matrix(y_test, y_pred_bbc_test))"
   ]
  },
  {
   "cell_type": "code",
   "execution_count": 93,
   "metadata": {
    "ExecuteTime": {
     "end_time": "2018-12-12T13:43:04.281834Z",
     "start_time": "2018-12-12T13:43:04.082147Z"
    }
   },
   "outputs": [
    {
     "name": "stdout",
     "output_type": "stream",
     "text": [
      "[[190555   1200]\n",
      " [  9961   3858]]\n"
     ]
    }
   ],
   "source": [
    "print(confusion_matrix(y_test, y_pred_bbc_test))"
   ]
  },
  {
   "cell_type": "code",
   "execution_count": 94,
   "metadata": {
    "ExecuteTime": {
     "end_time": "2018-12-12T13:43:04.501990Z",
     "start_time": "2018-12-12T13:43:04.281834Z"
    }
   },
   "outputs": [
    {
     "name": "stdout",
     "output_type": "stream",
     "text": [
      "              precision    recall  f1-score   support\n",
      "\n",
      "           0       0.95      0.99      0.97    191755\n",
      "           1       0.76      0.28      0.41     13819\n",
      "\n",
      "   micro avg       0.95      0.95      0.95    205574\n",
      "   macro avg       0.86      0.64      0.69    205574\n",
      "weighted avg       0.94      0.95      0.93    205574\n",
      "\n"
     ]
    }
   ],
   "source": [
    "print(classification_report(y_test, y_pred_bbc_test))"
   ]
  },
  {
   "cell_type": "markdown",
   "metadata": {},
   "source": [
    "So the precision is a bit better, but the recall worse"
   ]
  },
  {
   "cell_type": "markdown",
   "metadata": {},
   "source": [
    "### Cross-validation"
   ]
  },
  {
   "cell_type": "markdown",
   "metadata": {},
   "source": [
    "For now we can use the `KFold` cross-validation method of sklearn:"
   ]
  },
  {
   "cell_type": "code",
   "execution_count": 95,
   "metadata": {
    "ExecuteTime": {
     "end_time": "2018-12-12T13:43:04.522127Z",
     "start_time": "2018-12-12T13:43:04.504510Z"
    }
   },
   "outputs": [],
   "source": [
    "from sklearn.model_selection import KFold"
   ]
  },
  {
   "cell_type": "code",
   "execution_count": 130,
   "metadata": {
    "ExecuteTime": {
     "end_time": "2018-12-12T14:05:50.882034Z",
     "start_time": "2018-12-12T14:05:50.233937Z"
    }
   },
   "outputs": [
    {
     "name": "stdout",
     "output_type": "stream",
     "text": [
      "(509834, 33) (509834,)\n",
      "TRAIN: [101967 101968 101969 ... 509831 509832 509833] TEST: [     0      1      2 ... 101964 101965 101966]\n",
      "TRAIN: [     0      1      2 ... 509831 509832 509833] TEST: [101967 101968 101969 ... 203931 203932 203933]\n",
      "TRAIN: [     0      1      2 ... 509831 509832 509833] TEST: [203934 203935 203936 ... 305898 305899 305900]\n",
      "TRAIN: [     0      1      2 ... 509831 509832 509833] TEST: [305901 305902 305903 ... 407865 407866 407867]\n",
      "TRAIN: [     0      1      2 ... 407865 407866 407867] TEST: [407868 407869 407870 ... 509831 509832 509833]\n"
     ]
    }
   ],
   "source": [
    "cv = KFold(n_splits=5)\n",
    "cv.get_n_splits(data_test)\n",
    "\n",
    "X = data_train\n",
    "y = y_train\n",
    "print(X.shape,y.shape)\n",
    "for train_index, test_index in cv.split(X):\n",
    "    print(\"TRAIN:\", train_index, \"TEST:\", test_index)\n",
    "    X_tr, X_te = X.iloc[train_index], X.iloc[test_index]\n",
    "    y_tr, y_te = y.iloc[train_index], y.iloc[test_index]\n",
    "    \n"
   ]
  },
  {
   "cell_type": "code",
   "execution_count": null,
   "metadata": {},
   "outputs": [],
   "source": []
  },
  {
   "cell_type": "code",
   "execution_count": null,
   "metadata": {
    "collapsed": true
   },
   "outputs": [],
   "source": []
  }
 ],
 "metadata": {
  "kernelspec": {
   "display_name": "Python 3",
   "language": "python",
   "name": "python3"
  },
  "language_info": {
   "codemirror_mode": {
    "name": "ipython",
    "version": 3
   },
   "file_extension": ".py",
   "mimetype": "text/x-python",
   "name": "python",
   "nbconvert_exporter": "python",
   "pygments_lexer": "ipython3",
   "version": "3.6.4"
  },
  "nav_menu": {},
  "toc": {
   "navigate_menu": true,
   "number_sections": true,
   "sideBar": true,
   "threshold": 6,
   "toc_cell": false,
   "toc_section_display": "block",
   "toc_window_display": false
  }
 },
 "nbformat": 4,
 "nbformat_minor": 2
}
